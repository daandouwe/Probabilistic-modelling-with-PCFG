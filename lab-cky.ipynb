{
 "cells": [
  {
   "cell_type": "markdown",
   "metadata": {},
   "source": [
    "# Input\n",
    "\n",
    "Our working example is a grammar that analyses arithmetic operations such as sum and multiplication."
   ]
  },
  {
   "cell_type": "code",
   "execution_count": 1,
   "metadata": {
    "collapsed": true
   },
   "outputs": [],
   "source": [
    "from cfg import read_grammar_rules\n",
    "from cfg import WCFG\n",
    "from rule import Rule\n",
    "from symbol import is_terminal, is_nonterminal, make_symbol\n",
    "# for convenience we will use `defaultdict` from the package collections\n",
    "# which allows us to define a default constructor for values \n",
    "from collections import defaultdict"
   ]
  },
  {
   "cell_type": "code",
   "execution_count": 39,
   "metadata": {
    "collapsed": false
   },
   "outputs": [],
   "source": [
    "G1 = WCFG(read_grammar_rules(open('examples/arithmetic', 'r')))"
   ]
  },
  {
   "cell_type": "code",
   "execution_count": 40,
   "metadata": {
    "collapsed": false
   },
   "outputs": [
    {
     "name": "stdout",
     "output_type": "stream",
     "text": [
      "[T] -> [P] (0.5)\n",
      "[T] -> [T] * [P] (0.5)\n",
      "[E] -> [T] (0.5)\n",
      "[E] -> [E] + [T] (0.5)\n",
      "[P] -> a (1.0)\n"
     ]
    }
   ],
   "source": [
    "print G1"
   ]
  },
  {
   "cell_type": "markdown",
   "metadata": {},
   "source": [
    "# CKY parser\n",
    "\n",
    "We will implement a generalised CKY which can deal with an arbitrary epsilon-free PCFG.\n"
   ]
  },
  {
   "cell_type": "markdown",
   "metadata": {},
   "source": [
    "## Item\n",
    "\n",
    "We are using dotted rules to represent items in CKY. A dotted rule is basically a context-free production agumented with a list of positions of the input sentence."
   ]
  },
  {
   "cell_type": "code",
   "execution_count": 41,
   "metadata": {
    "collapsed": true
   },
   "outputs": [],
   "source": [
    "class Item(object):  # this class is also available in `item.py`\n",
    "    \"\"\"A dotted rule used in CKY/Earley.\"\"\"\n",
    "    \n",
    "    def __init__(self, rule, dots):\n",
    "        assert len(dots) > 0, 'I do not accept an empty list of dots'\n",
    "        self.rule_ = rule\n",
    "        self.dots_ = tuple(dots)\n",
    "        \n",
    "    def __eq__(self, other):\n",
    "        return self.rule_ == other.rule_ and self.dots_ == other.dots_\n",
    "    \n",
    "    def __ne__(self, other):\n",
    "        return not(self == other)\n",
    "    \n",
    "    def __hash__(self):\n",
    "        return hash((self.rule_, self.dots_))\n",
    "    \n",
    "    def __repr__(self):\n",
    "        return '{0} ||| {1}'.format(self.rule_, self.dots_)\n",
    "    \n",
    "    def __str__(self):\n",
    "        return '{0} ||| {1}'.format(self.rule_, self.dots_)\n",
    "    \n",
    "    @property\n",
    "    def lhs(self):\n",
    "        return self.rule_.lhs\n",
    "    \n",
    "    @property\n",
    "    def rule(self):\n",
    "        return self.rule_\n",
    "    \n",
    "    @property\n",
    "    def dot(self):\n",
    "        return self.dots_[-1]\n",
    "    \n",
    "    @property\n",
    "    def start(self):\n",
    "        return self.dots_[0]\n",
    "    \n",
    "    @property\n",
    "    def next(self):\n",
    "        \"\"\"return the symbol to the right of the dot (or None, if the item is complete)\"\"\"\n",
    "        if self.is_complete():\n",
    "            return None\n",
    "        return self.rule_.rhs[len(self.dots_) - 1]\n",
    "    \n",
    "    def state(self, i):\n",
    "        return self.dots_[i]\n",
    "\n",
    "    def advance(self, dot):\n",
    "        \"\"\"return a new item with an extended sequence of dots\"\"\"\n",
    "        return Item(self.rule_, self.dots_ + (dot,))\n",
    "    \n",
    "    def is_complete(self):\n",
    "        \"\"\"complete items are those whose dot reached the end of the RHS sequence\"\"\"\n",
    "        return len(self.rule_.rhs) + 1 == len(self.dots_)    \n",
    "    "
   ]
  },
  {
   "cell_type": "code",
   "execution_count": 42,
   "metadata": {
    "collapsed": false
   },
   "outputs": [],
   "source": [
    "r = Rule('[S]', ['[X]'], 0.0)\n",
    "i1 = Item(r, [0])\n",
    "i2 = i1.advance(1)"
   ]
  },
  {
   "cell_type": "code",
   "execution_count": 43,
   "metadata": {
    "collapsed": false
   },
   "outputs": [
    {
     "name": "stdout",
     "output_type": "stream",
     "text": [
      "[S] -> [X] (0.0) ||| (0,)\n",
      "[S] -> [X] (0.0) ||| (0, 1)\n"
     ]
    }
   ],
   "source": [
    "print i1\n",
    "print i2"
   ]
  },
  {
   "cell_type": "code",
   "execution_count": 44,
   "metadata": {
    "collapsed": false
   },
   "outputs": [
    {
     "data": {
      "text/plain": [
       "True"
      ]
     },
     "execution_count": 44,
     "metadata": {},
     "output_type": "execute_result"
    }
   ],
   "source": [
    "i1 != i2"
   ]
  },
  {
   "cell_type": "code",
   "execution_count": 45,
   "metadata": {
    "collapsed": false
   },
   "outputs": [
    {
     "data": {
      "text/plain": [
       "False"
      ]
     },
     "execution_count": 45,
     "metadata": {},
     "output_type": "execute_result"
    }
   ],
   "source": [
    "i1.is_complete()\n"
   ]
  },
  {
   "cell_type": "code",
   "execution_count": 46,
   "metadata": {
    "collapsed": false
   },
   "outputs": [
    {
     "data": {
      "text/plain": [
       "True"
      ]
     },
     "execution_count": 46,
     "metadata": {},
     "output_type": "execute_result"
    }
   ],
   "source": [
    "i2.is_complete()"
   ]
  },
  {
   "cell_type": "code",
   "execution_count": 47,
   "metadata": {
    "collapsed": false
   },
   "outputs": [
    {
     "data": {
      "text/plain": [
       "'[X]'"
      ]
     },
     "execution_count": 47,
     "metadata": {},
     "output_type": "execute_result"
    }
   ],
   "source": [
    "i1.next"
   ]
  },
  {
   "cell_type": "code",
   "execution_count": 48,
   "metadata": {
    "collapsed": true
   },
   "outputs": [],
   "source": [
    "i2.next"
   ]
  },
  {
   "cell_type": "markdown",
   "metadata": {},
   "source": [
    "## Agenda\n",
    "\n",
    "We need an agenda of items. Some items are active, others are passive.\n",
    "\n",
    "The active agenda is nothing but a stack or queue, whereas the passive agenda is simply a set (all items that have already been processed). However, we can further organise the passive items for easy/quick access within inference rules."
   ]
  },
  {
   "cell_type": "code",
   "execution_count": 49,
   "metadata": {
    "collapsed": true
   },
   "outputs": [],
   "source": [
    "class Agenda(object):  # this class is also available in `agenda.py`\n",
    "    \n",
    "    def __init__(self):\n",
    "        # we are organising active items in a stack (last in first out)\n",
    "        self._active = []\n",
    "        # an item should never queue twice, thus we will manage a set of items which we have already seen\n",
    "        self._seen = set()\n",
    "        # we organise incomplete items by the symbols they wait for at a certain position\n",
    "        # that is, if the key is a pair (Y, i)\n",
    "        # the value is a set of items of the form\n",
    "        # [X -> alpha * Y beta, [...i]]\n",
    "        self._incomplete = defaultdict(set)  \n",
    "        # we organise complete items by their LHS symbol spanning from a certain position\n",
    "        # if the key is a pair (X, i)\n",
    "        # then the value is a set of items of the form\n",
    "        # [X -> gamma *, [i ... j]]\n",
    "        self._complete = defaultdict(set)\n",
    "        \n",
    "    def __len__(self):\n",
    "        \"\"\"return the number of active items\"\"\"\n",
    "        return len(self._active)\n",
    "        \n",
    "    def push(self, item):\n",
    "        \"\"\"push an item into the queue of active items\"\"\"\n",
    "        if item not in self._seen:  # if an item has been seen before, we simply ignore it\n",
    "            self._active.append(item)\n",
    "            self._seen.add(item)\n",
    "            return True\n",
    "        return False\n",
    "    \n",
    "    def pop(self):\n",
    "        \"\"\"pop an active item\"\"\"\n",
    "        assert len(self._active) > 0, 'I have no items left.'\n",
    "        return self._active.pop()\n",
    "    \n",
    "    def make_passive(self, item):\n",
    "        if item.is_complete():  # complete items offer a way to rewrite a certain LHS from a certain position\n",
    "            self._complete[(item.lhs, item.start)].add(item)\n",
    "        else:  # incomplete items are waiting for the completion of the symbol to the right of the dot\n",
    "            self._incomplete[(item.next, item.dot)].add(item)\n",
    "            \n",
    "    def waiting(self, symbol, dot):\n",
    "        return self._incomplete.get((symbol, dot), set())\n",
    "    \n",
    "    def complete(self, lhs, start):\n",
    "        return self._complete.get((lhs, start), set())\n",
    "    \n",
    "    def itercomplete(self):\n",
    "        \"\"\"an iterator over complete items in arbitrary order\"\"\"\n",
    "        for items in self._complete.itervalues():\n",
    "            for item in items:\n",
    "                yield item\n",
    "                "
   ]
  },
  {
   "cell_type": "markdown",
   "metadata": {},
   "source": [
    "Let's see how it works"
   ]
  },
  {
   "cell_type": "code",
   "execution_count": 50,
   "metadata": {
    "collapsed": true
   },
   "outputs": [],
   "source": [
    "A = Agenda()"
   ]
  },
  {
   "cell_type": "code",
   "execution_count": 51,
   "metadata": {
    "collapsed": false
   },
   "outputs": [
    {
     "data": {
      "text/plain": [
       "[S] -> [S] [X] (1.0)"
      ]
     },
     "execution_count": 51,
     "metadata": {},
     "output_type": "execute_result"
    }
   ],
   "source": [
    "r1 = Rule('[S]', ['[S]', '[X]'], 1.0)\n",
    "r1"
   ]
  },
  {
   "cell_type": "markdown",
   "metadata": {},
   "source": [
    "we can push items into the agenda"
   ]
  },
  {
   "cell_type": "code",
   "execution_count": 52,
   "metadata": {
    "collapsed": false
   },
   "outputs": [
    {
     "data": {
      "text/plain": [
       "True"
      ]
     },
     "execution_count": 52,
     "metadata": {},
     "output_type": "execute_result"
    }
   ],
   "source": [
    "A.push(Item(r1, [0]))  # S -> S X, [0]  (earley axiom)"
   ]
  },
  {
   "cell_type": "markdown",
   "metadata": {},
   "source": [
    "and the agenda will make sure there are no duplicates"
   ]
  },
  {
   "cell_type": "code",
   "execution_count": 53,
   "metadata": {
    "collapsed": false
   },
   "outputs": [
    {
     "data": {
      "text/plain": [
       "False"
      ]
     },
     "execution_count": 53,
     "metadata": {},
     "output_type": "execute_result"
    }
   ],
   "source": [
    "A.push(Item(r1, [0]))"
   ]
  },
  {
   "cell_type": "code",
   "execution_count": 54,
   "metadata": {
    "collapsed": false
   },
   "outputs": [
    {
     "data": {
      "text/plain": [
       "1"
      ]
     },
     "execution_count": 54,
     "metadata": {},
     "output_type": "execute_result"
    }
   ],
   "source": [
    "len(A)"
   ]
  },
  {
   "cell_type": "code",
   "execution_count": 55,
   "metadata": {
    "collapsed": false
   },
   "outputs": [
    {
     "data": {
      "text/plain": [
       "[S] -> [S] [X] (1.0) ||| (0,)"
      ]
     },
     "execution_count": 55,
     "metadata": {},
     "output_type": "execute_result"
    }
   ],
   "source": [
    "i1 = Item(r1, [0])\n",
    "i1"
   ]
  },
  {
   "cell_type": "code",
   "execution_count": 56,
   "metadata": {
    "collapsed": true
   },
   "outputs": [],
   "source": [
    "A.make_passive(i1)"
   ]
  },
  {
   "cell_type": "code",
   "execution_count": 57,
   "metadata": {
    "collapsed": false
   },
   "outputs": [
    {
     "data": {
      "text/plain": [
       "defaultdict(<type 'set'>, {('[S]', 0): set([[S] -> [S] [X] (1.0) ||| (0,)])})"
      ]
     },
     "execution_count": 57,
     "metadata": {},
     "output_type": "execute_result"
    }
   ],
   "source": [
    "A._incomplete"
   ]
  },
  {
   "cell_type": "code",
   "execution_count": 58,
   "metadata": {
    "collapsed": false
   },
   "outputs": [
    {
     "data": {
      "text/plain": [
       "True"
      ]
     },
     "execution_count": 58,
     "metadata": {},
     "output_type": "execute_result"
    }
   ],
   "source": [
    "A.push(Item(Rule('[S]', ['[X]'], 1.0), [0]))"
   ]
  },
  {
   "cell_type": "code",
   "execution_count": 59,
   "metadata": {
    "collapsed": true
   },
   "outputs": [],
   "source": [
    "A.make_passive(Item(Rule('[S]', ['[X]'], 1.0), [0]))"
   ]
  },
  {
   "cell_type": "code",
   "execution_count": 60,
   "metadata": {
    "collapsed": false
   },
   "outputs": [
    {
     "data": {
      "text/plain": [
       "defaultdict(<type 'set'>, {('[S]', 0): set([[S] -> [S] [X] (1.0) ||| (0,)]), ('[X]', 0): set([[S] -> [X] (1.0) ||| (0,)])})"
      ]
     },
     "execution_count": 60,
     "metadata": {},
     "output_type": "execute_result"
    }
   ],
   "source": [
    "A._incomplete"
   ]
  },
  {
   "cell_type": "code",
   "execution_count": 61,
   "metadata": {
    "collapsed": false
   },
   "outputs": [
    {
     "data": {
      "text/plain": [
       "True"
      ]
     },
     "execution_count": 61,
     "metadata": {},
     "output_type": "execute_result"
    }
   ],
   "source": [
    "A.push(Item(Rule('[S]', ['[X]'], 1.0), [0, 1]))"
   ]
  },
  {
   "cell_type": "code",
   "execution_count": 62,
   "metadata": {
    "collapsed": false
   },
   "outputs": [],
   "source": [
    "A.make_passive(Item(Rule('[S]', ['[X]'], 1.0), [0, 1]))"
   ]
  },
  {
   "cell_type": "code",
   "execution_count": 63,
   "metadata": {
    "collapsed": false
   },
   "outputs": [
    {
     "data": {
      "text/plain": [
       "defaultdict(<type 'set'>, {('[S]', 0): set([[S] -> [X] (1.0) ||| (0, 1)])})"
      ]
     },
     "execution_count": 63,
     "metadata": {},
     "output_type": "execute_result"
    }
   ],
   "source": [
    "A._complete"
   ]
  },
  {
   "cell_type": "markdown",
   "metadata": {
    "collapsed": true
   },
   "source": [
    "## Axioms (CKY)\n",
    "\n",
    "### Basic version\n",
    "\n",
    "For every rule X -> alpha, and every input position (i) between 0 and n-1, we have an item of the kind:\n",
    "\n",
    "* [X -> * alpha, i, i]\n",
    "\n",
    "which gets represented as\n",
    "\n",
    "* X -> alpha, [i]"
   ]
  },
  {
   "cell_type": "code",
   "execution_count": 64,
   "metadata": {
    "collapsed": true
   },
   "outputs": [],
   "source": [
    "def axioms(cfg, sentence):\n",
    "    \"\"\"\n",
    "    :params cfg: a context-free grammar (an instance of WCFG)\n",
    "    :params sentence: the input sentence (as a list or tuple)\n",
    "    :returns: a list of items\n",
    "    \"\"\"\n",
    "    items = []\n",
    "    for rule in cfg:\n",
    "        for i in range(len(sentence)):\n",
    "            items.append(Item(rule, [i]))\n",
    "    return items"
   ]
  },
  {
   "cell_type": "code",
   "execution_count": 67,
   "metadata": {
    "collapsed": false
   },
   "outputs": [
    {
     "data": {
      "text/plain": [
       "[[E] -> [T] (0.5) ||| (0,),\n",
       " [E] -> [T] (0.5) ||| (1,),\n",
       " [E] -> [T] (0.5) ||| (2,),\n",
       " [E] -> [E] + [T] (0.5) ||| (0,),\n",
       " [E] -> [E] + [T] (0.5) ||| (1,),\n",
       " [E] -> [E] + [T] (0.5) ||| (2,),\n",
       " [T] -> [P] (0.5) ||| (0,),\n",
       " [T] -> [P] (0.5) ||| (1,),\n",
       " [T] -> [P] (0.5) ||| (2,),\n",
       " [T] -> [T] * [P] (0.5) ||| (0,),\n",
       " [T] -> [T] * [P] (0.5) ||| (1,),\n",
       " [T] -> [T] * [P] (0.5) ||| (2,),\n",
       " [P] -> a (1.0) ||| (0,),\n",
       " [P] -> a (1.0) ||| (1,),\n",
       " [P] -> a (1.0) ||| (2,)]"
      ]
     },
     "execution_count": 67,
     "metadata": {},
     "output_type": "execute_result"
    }
   ],
   "source": [
    "sentence = 'a * a'.split()\n",
    "axioms(G1, sentence)"
   ]
  },
  {
   "cell_type": "markdown",
   "metadata": {
    "collapsed": false
   },
   "source": [
    "### Optimised version\n",
    "\n",
    "For every rule X -> w_i alpha such that w_i is an input word at position i, we have an item of the kind:\n",
    "\n",
    "* [X -> * w_i alpha, i - 1, i - 1]\n",
    "\n",
    "which gets represented as\n",
    "\n",
    "* X -> w_i alpha, [i-1]\n",
    "\n",
    "Don't forget that these optimised axioms require an additional inference rule (some sort of *delayed axioms* which resembles a combination of *prediction* with *completion*)."
   ]
  },
  {
   "cell_type": "code",
   "execution_count": 86,
   "metadata": {
    "collapsed": true
   },
   "outputs": [],
   "source": [
    "def axioms2(cfg, sentence):\n",
    "    \"\"\"\n",
    "    :params cfg: a context-free grammar (an instance of WCFG)\n",
    "    :params sentence: the input sentence (as a list or tuple)\n",
    "    :returns: a list of items\n",
    "    \"\"\"\n",
    "    by_rhs0 = defaultdict(list)\n",
    "    for rule in cfg:\n",
    "        by_rhs0[rule.rhs[0]].append(rule)        \n",
    "    items = []\n",
    "    for i, word in enumerate(sentence):\n",
    "        for rule in by_rhs0.get(word, []):\n",
    "            items.append(Item(rule, [i]))\n",
    "    return items"
   ]
  },
  {
   "cell_type": "code",
   "execution_count": 87,
   "metadata": {
    "collapsed": false
   },
   "outputs": [
    {
     "data": {
      "text/plain": [
       "[[P] -> a (1.0) ||| (0,), [P] -> a (1.0) ||| (2,)]"
      ]
     },
     "execution_count": 87,
     "metadata": {},
     "output_type": "execute_result"
    }
   ],
   "source": [
    "axioms2(G1, sentence)"
   ]
  },
  {
   "cell_type": "markdown",
   "metadata": {},
   "source": [
    "## Scan\n",
    "\n",
    "If [A -> alpha * w_j beta, i, j - 1] is an item such that w_j is the jth input word, then we can prove\n",
    "\n",
    "        [A -> alpha w_j * beta, i, j]"
   ]
  },
  {
   "cell_type": "code",
   "execution_count": 70,
   "metadata": {
    "collapsed": true
   },
   "outputs": [],
   "source": [
    "def scan(item, sentence):\n",
    "    assert is_terminal(item.next), 'Only terminal symbols can be scanned, got %s' % item.next\n",
    "    if item.dot < len(sentence) and sentence[item.dot] == item.next:\n",
    "        new = item.advance(item.dot + 1)\n",
    "        return new\n",
    "    else:\n",
    "        return None"
   ]
  },
  {
   "cell_type": "code",
   "execution_count": 71,
   "metadata": {
    "collapsed": false
   },
   "outputs": [
    {
     "data": {
      "text/plain": [
       "[[P] -> a (1.0) ||| (0, 1), [P] -> a (1.0) ||| (2, 3)]"
      ]
     },
     "execution_count": 71,
     "metadata": {},
     "output_type": "execute_result"
    }
   ],
   "source": [
    "S = []\n",
    "for item in axioms2(G1, sentence):\n",
    "    new = scan(item, sentence)\n",
    "    if new is not None:\n",
    "        S.append(new)\n",
    "S"
   ]
  },
  {
   "cell_type": "code",
   "execution_count": null,
   "metadata": {
    "collapsed": true
   },
   "outputs": [],
   "source": []
  },
  {
   "cell_type": "markdown",
   "metadata": {},
   "source": [
    "## Complete\n",
    "\n",
    "Here we let an active item interact with passive items:\n",
    "\n",
    "* either an active item is complete, then we try to advance incomplete passive items\n",
    "\n",
    "* or an active item is incomplete, in which case we try to advance the item itself by looking back to complete passive items\n",
    "\n",
    "\n",
    "Either way, this is the inference rule:\n",
    "\n",
    "         [X -> alpha * Y beta, [i ... k]] [Y -> gamma *, [k ... j]]\n",
    "         ----------------------------------------------------------\n",
    "                 [X -> alpha Y * beta, [i ... j]]\n"
   ]
  },
  {
   "cell_type": "code",
   "execution_count": 82,
   "metadata": {
    "collapsed": true
   },
   "outputs": [],
   "source": [
    "def complete(item, agenda):\n",
    "    items = []\n",
    "    if item.is_complete():\n",
    "        # advance the dot for incomplete items waiting for item.lhs spanning from item.start\n",
    "        for incomplete in agenda.waiting(item.lhs, item.start):\n",
    "            items.append(incomplete.advance(item.dot))\n",
    "    else:\n",
    "        # look for completions of item.next spanning from item.dot\n",
    "        ends = set()\n",
    "        for complete in agenda.complete(item.next, item.dot):\n",
    "            ends.add(complete.dot)\n",
    "        # advance the dot of the input item for each position that complete a span\n",
    "        for end in ends:\n",
    "            items.append(item.advance(end))\n",
    "    return items"
   ]
  },
  {
   "cell_type": "markdown",
   "metadata": {
    "collapsed": true
   },
   "source": [
    "## Forest from complete items\n",
    "\n",
    "Each complete item in the (passive) agenda can be mapped to a new CFG rule (annotated with input spans).\n",
    "For example, an item such as\n",
    "\n",
    "        [X -> A x B *, [0,1,2,3]]\n",
    "        \n",
    "results in the rule\n",
    "\n",
    "        X:0-3 -> A:0-1 x B:2-3\n",
    "        \n",
    "observe how only nonterminal nodes get annotated."
   ]
  },
  {
   "cell_type": "code",
   "execution_count": 88,
   "metadata": {
    "collapsed": true
   },
   "outputs": [],
   "source": [
    "def make_forest(complete_items):\n",
    "    forest = WCFG()\n",
    "    for item in complete_items:        \n",
    "        lhs = make_symbol(item.lhs, item.start, item.dot)\n",
    "        rhs = []\n",
    "        for i, sym in enumerate(item.rule.rhs):\n",
    "            rhs.append(make_symbol(sym, item.state(i), item.state(i + 1)))\n",
    "        forest.add(Rule(lhs, rhs, item.rule.prob))\n",
    "    return forest"
   ]
  },
  {
   "cell_type": "markdown",
   "metadata": {},
   "source": [
    "## Complete program\n",
    "\n",
    "Start with axioms and exhaustively apply inference rules"
   ]
  },
  {
   "cell_type": "code",
   "execution_count": 79,
   "metadata": {
    "collapsed": false
   },
   "outputs": [],
   "source": [
    "def cky(cfg, sentence):\n",
    "    A = Agenda()\n",
    "    for item in axioms(cfg, sentence):\n",
    "        A.push(item)\n",
    "    while A:\n",
    "        item = A.pop()\n",
    "        if item.is_complete() or is_nonterminal(item.next):\n",
    "            for new in complete(item, A):\n",
    "                A.push(new)\n",
    "        else:\n",
    "            new = scan(item, sentence)\n",
    "            if new is not None:\n",
    "                A.push(new)\n",
    "        A.make_passive(item)\n",
    "    return make_forest(A.itercomplete())"
   ]
  },
  {
   "cell_type": "code",
   "execution_count": 80,
   "metadata": {
    "collapsed": false
   },
   "outputs": [],
   "source": [
    "forest = cky(G1, sentence)"
   ]
  },
  {
   "cell_type": "code",
   "execution_count": 81,
   "metadata": {
    "collapsed": false
   },
   "outputs": [
    {
     "name": "stdout",
     "output_type": "stream",
     "text": [
      "[E,0-3] -> [T,0-3] (0.5)\n",
      "[P,0-1] -> a (1.0)\n",
      "[E,2-3] -> [T,2-3] (0.5)\n",
      "[T,2-3] -> [P,2-3] (0.5)\n",
      "[T,0-1] -> [P,0-1] (0.5)\n",
      "[E,0-1] -> [T,0-1] (0.5)\n",
      "[T,0-3] -> [T,0-1] * [P,2-3] (0.5)\n",
      "[P,2-3] -> a (1.0)\n"
     ]
    }
   ],
   "source": [
    "print forest"
   ]
  },
  {
   "cell_type": "markdown",
   "metadata": {
    "collapsed": true
   },
   "source": [
    "## Goal\n",
    "\n",
    "We know that the *goal symbol* is basically the original *start* symbol spanning from *0* to *n* (the length of the sentence)."
   ]
  },
  {
   "cell_type": "code",
   "execution_count": 85,
   "metadata": {
    "collapsed": false
   },
   "outputs": [
    {
     "data": {
      "text/plain": [
       "'[E,0-3]'"
      ]
     },
     "execution_count": 85,
     "metadata": {},
     "output_type": "execute_result"
    }
   ],
   "source": [
    "goal = make_symbol('[E]', 0, len(sentence))\n",
    "goal"
   ]
  },
  {
   "cell_type": "code",
   "execution_count": null,
   "metadata": {
    "collapsed": true
   },
   "outputs": [],
   "source": []
  }
 ],
 "metadata": {
  "kernelspec": {
   "display_name": "Python 2",
   "language": "python",
   "name": "python2"
  },
  "language_info": {
   "codemirror_mode": {
    "name": "ipython",
    "version": 2
   },
   "file_extension": ".py",
   "mimetype": "text/x-python",
   "name": "python",
   "nbconvert_exporter": "python",
   "pygments_lexer": "ipython2",
   "version": "2.7.6"
  }
 },
 "nbformat": 4,
 "nbformat_minor": 0
}
